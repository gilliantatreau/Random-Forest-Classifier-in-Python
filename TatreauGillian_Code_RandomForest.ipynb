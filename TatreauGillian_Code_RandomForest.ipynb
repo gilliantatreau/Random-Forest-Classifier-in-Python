{
 "cells": [
  {
   "cell_type": "markdown",
   "id": "380d6b15",
   "metadata": {},
   "source": [
    "# DSC550\n",
    "# Gillian Tatreau\n",
    "# Term Project\n",
    "# Spring 2023"
   ]
  },
  {
   "cell_type": "markdown",
   "id": "9ea1e4ad",
   "metadata": {},
   "source": [
    "## Milestone 1\n",
    "### Week 6"
   ]
  },
  {
   "cell_type": "markdown",
   "id": "23582844",
   "metadata": {},
   "source": [
    "### Introduction"
   ]
  },
  {
   "cell_type": "markdown",
   "id": "eaff9296",
   "metadata": {},
   "source": [
    "Electric vehicle sales are rapidly increasing, with a reported increase from 0.2% to 4.6% of total vehicle sales from 2011 to 2021; therefore, it is becomingly increasingly important for car manufacturers to understand where potential future consumers are coming from. If it were possible to predict the brand of an electric vehicle purchased, given geographical information about the consumer, it would be very beneficial to these manufacturers at various levels of their corporation. For example, being able to predict the brand for a given area, the likelihood of closing a sales deal for a local car dealership could be imputed. This could give manufacturers information about where to build more electric vehicle support infrastructure, such as charging stations, and licensing mechanics that specialize in their vehicles. \n",
    "\n",
    "Using Electric Vehicle Population Data on electric vehicles currently registered through Washington State Department of Licensing, the model will attempt to predict the make of the car given geographical demographic information. The data includes VIN, city, county, state, postal code, legislative district, location, electric utility, 2020 census tract, Department of Licensing vehicle ID for each vehicle as well as vehicle specific information (make, model, year, type, electric range, and base MSRP). The target for the model will be the car’s make. Since we are trying to predict a vehicle's make, we cannot include any data that would not be known if we do not know yet what car was purchased, which would be the model, year, electric range, VIN, or Department of Licensing vehicle ID. We can include the type of elctric vehicle and the base MSRP as a consumer would likely already know what type of car they are looking for (as this is also something that is not dependent on a car's make since most car manufacturers produce several types of electric vehicle) and how much they are willing to spend. \n",
    "\n",
    "Being able to predict a car’s manufacturer based on demographic information can have a lot of importance to that manufacturer: it gives insight into places to focus their advertisements to increase sales. The demographic information includes legislative district; if this feature has any predictive power, the model has the potential to be politically informative as well as economically informative because it could give these elected officials insight into where their constituents’ interests lie. This could also be exploited by manufacturers because they might give more support to officials that represent districts in which there is a high population of their vehicles in order to increase their sway should they ever need political backing in a future business venture in the area. \n"
   ]
  },
  {
   "cell_type": "markdown",
   "id": "cdbb03be",
   "metadata": {},
   "source": [
    "### Graphical Analysis"
   ]
  },
  {
   "cell_type": "code",
   "execution_count": 1,
   "id": "c05c2817",
   "metadata": {},
   "outputs": [],
   "source": [
    "# import libraries\n",
    "import pandas as pd\n",
    "import numpy as np\n",
    "import matplotlib.pyplot as plt\n",
    "import seaborn as sns"
   ]
  },
  {
   "cell_type": "code",
   "execution_count": 2,
   "id": "a77e86e2",
   "metadata": {},
   "outputs": [
    {
     "data": {
      "text/html": [
       "<div>\n",
       "<style scoped>\n",
       "    .dataframe tbody tr th:only-of-type {\n",
       "        vertical-align: middle;\n",
       "    }\n",
       "\n",
       "    .dataframe tbody tr th {\n",
       "        vertical-align: top;\n",
       "    }\n",
       "\n",
       "    .dataframe thead th {\n",
       "        text-align: right;\n",
       "    }\n",
       "</style>\n",
       "<table border=\"1\" class=\"dataframe\">\n",
       "  <thead>\n",
       "    <tr style=\"text-align: right;\">\n",
       "      <th></th>\n",
       "      <th>VIN (1-10)</th>\n",
       "      <th>County</th>\n",
       "      <th>City</th>\n",
       "      <th>State</th>\n",
       "      <th>Postal Code</th>\n",
       "      <th>Model Year</th>\n",
       "      <th>Make</th>\n",
       "      <th>Model</th>\n",
       "      <th>Electric Vehicle Type</th>\n",
       "      <th>Clean Alternative Fuel Vehicle (CAFV) Eligibility</th>\n",
       "      <th>Electric Range</th>\n",
       "      <th>Base MSRP</th>\n",
       "      <th>Legislative District</th>\n",
       "      <th>DOL Vehicle ID</th>\n",
       "      <th>Vehicle Location</th>\n",
       "      <th>Electric Utility</th>\n",
       "      <th>2020 Census Tract</th>\n",
       "    </tr>\n",
       "  </thead>\n",
       "  <tbody>\n",
       "    <tr>\n",
       "      <th>0</th>\n",
       "      <td>5YJ3E1EB2J</td>\n",
       "      <td>Suffolk</td>\n",
       "      <td>Suffolk</td>\n",
       "      <td>VA</td>\n",
       "      <td>23435.0</td>\n",
       "      <td>2018</td>\n",
       "      <td>TESLA</td>\n",
       "      <td>MODEL 3</td>\n",
       "      <td>Battery Electric Vehicle (BEV)</td>\n",
       "      <td>Clean Alternative Fuel Vehicle Eligible</td>\n",
       "      <td>215</td>\n",
       "      <td>0</td>\n",
       "      <td>NaN</td>\n",
       "      <td>476647986</td>\n",
       "      <td>POINT (-76.42443 36.8752)</td>\n",
       "      <td>NaN</td>\n",
       "      <td>5.180008e+10</td>\n",
       "    </tr>\n",
       "    <tr>\n",
       "      <th>1</th>\n",
       "      <td>5YJ3E1ECXL</td>\n",
       "      <td>Yakima</td>\n",
       "      <td>Yakima</td>\n",
       "      <td>WA</td>\n",
       "      <td>98908.0</td>\n",
       "      <td>2020</td>\n",
       "      <td>TESLA</td>\n",
       "      <td>MODEL 3</td>\n",
       "      <td>Battery Electric Vehicle (BEV)</td>\n",
       "      <td>Clean Alternative Fuel Vehicle Eligible</td>\n",
       "      <td>308</td>\n",
       "      <td>0</td>\n",
       "      <td>14.0</td>\n",
       "      <td>103490145</td>\n",
       "      <td>POINT (-120.56916 46.58514)</td>\n",
       "      <td>PACIFICORP</td>\n",
       "      <td>5.307700e+10</td>\n",
       "    </tr>\n",
       "    <tr>\n",
       "      <th>2</th>\n",
       "      <td>WA1LAAGE7M</td>\n",
       "      <td>Yakima</td>\n",
       "      <td>Yakima</td>\n",
       "      <td>WA</td>\n",
       "      <td>98908.0</td>\n",
       "      <td>2021</td>\n",
       "      <td>AUDI</td>\n",
       "      <td>E-TRON</td>\n",
       "      <td>Battery Electric Vehicle (BEV)</td>\n",
       "      <td>Clean Alternative Fuel Vehicle Eligible</td>\n",
       "      <td>222</td>\n",
       "      <td>0</td>\n",
       "      <td>14.0</td>\n",
       "      <td>144941534</td>\n",
       "      <td>POINT (-120.56916 46.58514)</td>\n",
       "      <td>PACIFICORP</td>\n",
       "      <td>5.307700e+10</td>\n",
       "    </tr>\n",
       "    <tr>\n",
       "      <th>3</th>\n",
       "      <td>5YJ3E1EA1K</td>\n",
       "      <td>Danville</td>\n",
       "      <td>Danville</td>\n",
       "      <td>VA</td>\n",
       "      <td>24541.0</td>\n",
       "      <td>2019</td>\n",
       "      <td>TESLA</td>\n",
       "      <td>MODEL 3</td>\n",
       "      <td>Battery Electric Vehicle (BEV)</td>\n",
       "      <td>Clean Alternative Fuel Vehicle Eligible</td>\n",
       "      <td>220</td>\n",
       "      <td>0</td>\n",
       "      <td>NaN</td>\n",
       "      <td>168513922</td>\n",
       "      <td>POINT (-79.4172 36.58598)</td>\n",
       "      <td>NaN</td>\n",
       "      <td>5.159000e+10</td>\n",
       "    </tr>\n",
       "    <tr>\n",
       "      <th>4</th>\n",
       "      <td>1FADP5CU9E</td>\n",
       "      <td>Norfolk</td>\n",
       "      <td>Norfolk</td>\n",
       "      <td>VA</td>\n",
       "      <td>23518.0</td>\n",
       "      <td>2014</td>\n",
       "      <td>FORD</td>\n",
       "      <td>C-MAX</td>\n",
       "      <td>Plug-in Hybrid Electric Vehicle (PHEV)</td>\n",
       "      <td>Not eligible due to low battery range</td>\n",
       "      <td>19</td>\n",
       "      <td>0</td>\n",
       "      <td>NaN</td>\n",
       "      <td>150749378</td>\n",
       "      <td>POINT (-76.21549 36.92478)</td>\n",
       "      <td>NaN</td>\n",
       "      <td>5.171001e+10</td>\n",
       "    </tr>\n",
       "  </tbody>\n",
       "</table>\n",
       "</div>"
      ],
      "text/plain": [
       "   VIN (1-10)    County      City State  Postal Code  Model Year   Make  \\\n",
       "0  5YJ3E1EB2J   Suffolk   Suffolk    VA      23435.0        2018  TESLA   \n",
       "1  5YJ3E1ECXL    Yakima    Yakima    WA      98908.0        2020  TESLA   \n",
       "2  WA1LAAGE7M    Yakima    Yakima    WA      98908.0        2021   AUDI   \n",
       "3  5YJ3E1EA1K  Danville  Danville    VA      24541.0        2019  TESLA   \n",
       "4  1FADP5CU9E   Norfolk   Norfolk    VA      23518.0        2014   FORD   \n",
       "\n",
       "     Model                   Electric Vehicle Type  \\\n",
       "0  MODEL 3          Battery Electric Vehicle (BEV)   \n",
       "1  MODEL 3          Battery Electric Vehicle (BEV)   \n",
       "2   E-TRON          Battery Electric Vehicle (BEV)   \n",
       "3  MODEL 3          Battery Electric Vehicle (BEV)   \n",
       "4    C-MAX  Plug-in Hybrid Electric Vehicle (PHEV)   \n",
       "\n",
       "  Clean Alternative Fuel Vehicle (CAFV) Eligibility  Electric Range  \\\n",
       "0           Clean Alternative Fuel Vehicle Eligible             215   \n",
       "1           Clean Alternative Fuel Vehicle Eligible             308   \n",
       "2           Clean Alternative Fuel Vehicle Eligible             222   \n",
       "3           Clean Alternative Fuel Vehicle Eligible             220   \n",
       "4             Not eligible due to low battery range              19   \n",
       "\n",
       "   Base MSRP  Legislative District  DOL Vehicle ID  \\\n",
       "0          0                   NaN       476647986   \n",
       "1          0                  14.0       103490145   \n",
       "2          0                  14.0       144941534   \n",
       "3          0                   NaN       168513922   \n",
       "4          0                   NaN       150749378   \n",
       "\n",
       "              Vehicle Location Electric Utility  2020 Census Tract  \n",
       "0    POINT (-76.42443 36.8752)              NaN       5.180008e+10  \n",
       "1  POINT (-120.56916 46.58514)       PACIFICORP       5.307700e+10  \n",
       "2  POINT (-120.56916 46.58514)       PACIFICORP       5.307700e+10  \n",
       "3    POINT (-79.4172 36.58598)              NaN       5.159000e+10  \n",
       "4   POINT (-76.21549 36.92478)              NaN       5.171001e+10  "
      ]
     },
     "execution_count": 2,
     "metadata": {},
     "output_type": "execute_result"
    }
   ],
   "source": [
    "# read file to dataframe\n",
    "df = pd.read_csv(\"/Users/gillian/Documents/Bellevue Grad Program/Spring 2023/DSC550/Electric_Vehicle_Population_Data.csv\")\n",
    "df.head()"
   ]
  },
  {
   "cell_type": "markdown",
   "id": "6766aa67",
   "metadata": {},
   "source": [
    "#### Pie Chart for Car Models"
   ]
  },
  {
   "cell_type": "code",
   "execution_count": 3,
   "id": "b086bf31",
   "metadata": {},
   "outputs": [
    {
     "data": {
      "text/plain": [
       "MODEL 3        24117\n",
       "MODEL Y        19901\n",
       "LEAF           12931\n",
       "MODEL S         7386\n",
       "BOLT EV         5074\n",
       "VOLT            4895\n",
       "MODEL X         4661\n",
       "PRIUS PRIME     2423\n",
       "NIRO            2326\n",
       "ID.4            2139\n",
       "Name: Model, dtype: int64"
      ]
     },
     "execution_count": 3,
     "metadata": {},
     "output_type": "execute_result"
    }
   ],
   "source": [
    "# top 10 models value counts\n",
    "df[\"Model\"].value_counts().head(10)"
   ]
  },
  {
   "cell_type": "code",
   "execution_count": 4,
   "id": "4749801d",
   "metadata": {},
   "outputs": [
    {
     "data": {
      "text/plain": [
       "36125"
      ]
     },
     "execution_count": 4,
     "metadata": {},
     "output_type": "execute_result"
    }
   ],
   "source": [
    "# number of vehicles left that are not the top 10 models\n",
    "len(df.index) - df[\"Model\"].value_counts().head(10).sum()"
   ]
  },
  {
   "cell_type": "code",
   "execution_count": 5,
   "id": "4c8cc6c2",
   "metadata": {},
   "outputs": [],
   "source": [
    "# dictionary for top 10 models and their values\n",
    "top10 = {\n",
    "    \"MODEL 3\": 24117,\n",
    "    \"MODEL Y\": 19901,\n",
    "    \"LEAF\": 12931,\n",
    "    \"MODEL S\": 7386,\n",
    "    \"BOLT EV\": 5076,\n",
    "    \"VOLT\": 4895,\n",
    "    \"MODEL X\": 4661,\n",
    "    \"PRIUS PRIME\": 2423,\n",
    "    \"NIRO\": 2326,\n",
    "    \"ID.4\": 2139,\n",
    "    \"OTHER\": 36125\n",
    "}"
   ]
  },
  {
   "cell_type": "code",
   "execution_count": 6,
   "id": "29db6ecf",
   "metadata": {},
   "outputs": [
    {
     "data": {
      "image/png": "[encoded data removed]",
      "text/plain": [
       "<Figure size 640x480 with 1 Axes>"
      ]
     },
     "metadata": {},
     "output_type": "display_data"
    }
   ],
   "source": [
    "# pie chart for distribution of top 10 models, all others are denoted as \"OTHER\"\n",
    "plt.pie(top10.values(), labels = top10.keys(), colors=sns.color_palette('Set3'))\n",
    "plt.title(\"Top 10 Car Models for Electric Vehicles\")\n",
    "plt.savefig(\"Top_10_Car_Models_for_Electric_Vehicles.png\")\n",
    "plt.show()"
   ]
  },
  {
   "cell_type": "markdown",
   "id": "52f7eea0",
   "metadata": {},
   "source": [
    "These classes are highly unbalanced; however, the top 10 models represent the majority of the vehicles and the others can be generalized into an other category that is comparable in proportion to the top 2 car models in the data set. The heavy prevalence only a couple of models in the data is related to the popularity and availability both of the model itself, and the brand. The top 2 models represent the top brand, and the third most common model represents the second most popular brand. "
   ]
  },
  {
   "cell_type": "markdown",
   "id": "057bf72e",
   "metadata": {},
   "source": [
    "#### Pie Chart for Car Brands"
   ]
  },
  {
   "cell_type": "code",
   "execution_count": 7,
   "id": "948f9dc1",
   "metadata": {},
   "outputs": [
    {
     "data": {
      "text/plain": [
       "TESLA        56116\n",
       "NISSAN       12938\n",
       "CHEVROLET    10775\n",
       "FORD          6571\n",
       "BMW           5350\n",
       "Name: Make, dtype: int64"
      ]
     },
     "execution_count": 7,
     "metadata": {},
     "output_type": "execute_result"
    }
   ],
   "source": [
    "# top 5 makes value counts\n",
    "df[\"Make\"].value_counts().head()"
   ]
  },
  {
   "cell_type": "code",
   "execution_count": 8,
   "id": "5ecabdc5",
   "metadata": {},
   "outputs": [
    {
     "data": {
      "text/plain": [
       "30228"
      ]
     },
     "execution_count": 8,
     "metadata": {},
     "output_type": "execute_result"
    }
   ],
   "source": [
    "# number of vehicles that are not top 5 car makers\n",
    "len(df.index) - df[\"Make\"].value_counts().head().sum()"
   ]
  },
  {
   "cell_type": "code",
   "execution_count": 9,
   "id": "267d9925",
   "metadata": {},
   "outputs": [],
   "source": [
    "# dictionary for top 5 car makes with their values\n",
    "top5 = {\n",
    "    \"TESLA\": 56116,\n",
    "    \"NISSAN\": 12938,\n",
    "    \"CHEVROLET\": 10775,\n",
    "    \"FORD\": 6571,\n",
    "    \"BMW\": 5350,\n",
    "    \"OTHER\": 30228\n",
    "}"
   ]
  },
  {
   "cell_type": "code",
   "execution_count": 10,
   "id": "d5b1d5d5",
   "metadata": {},
   "outputs": [
    {
     "data": {
      "image/png": "[encoded data removed]",
      "text/plain": [
       "<Figure size 640x480 with 1 Axes>"
      ]
     },
     "metadata": {},
     "output_type": "display_data"
    }
   ],
   "source": [
    "# pie chart for distribution of top 5 brands, all others are denoted as \"OTHER\"\n",
    "plt.pie(top5.values(), labels = top5.keys(), colors=sns.color_palette('colorblind'))\n",
    "plt.title(\"Top 5 Car Brands for Electric Vehicles\")\n",
    "plt.savefig(\"Top_5_Car_Brands.png\")\n",
    "plt.show()"
   ]
  },
  {
   "cell_type": "markdown",
   "id": "c5d665fd",
   "metadata": {},
   "source": [
    "If we compared this chart to the one above, of the most common models, we would see the relationship between relative size: as Tesla makes the Model 3, Model Y, and Model S (the first, second, and fourth top models respectively) we see that reflected in Tesla's proportion in this chart. While the classes are again deeply unbalanced, the imbalances are much less severe. Also, the prevalence of one company over another in the population of electric vehicles might be explained by the companies' philosophy as well. Tesla only sells electriv vehicles, and have very few model options on the market, while the other car brands have many more models available on the market and have a variety of electric vehicles, hybrids, and gas cars. This might suggest that other brands that do not put as much emphasis on electric vehicle models may not be able to sell as many electric vehicles because their electric vehicles only represent a portion of the cars they manufacture. "
   ]
  },
  {
   "cell_type": "markdown",
   "id": "69ab788c",
   "metadata": {},
   "source": [
    "#### Pie Chart of Electric Vehicle Type"
   ]
  },
  {
   "cell_type": "code",
   "execution_count": 11,
   "id": "b653f477",
   "metadata": {},
   "outputs": [
    {
     "data": {
      "text/plain": [
       "Battery Electric Vehicle (BEV)            94118\n",
       "Plug-in Hybrid Electric Vehicle (PHEV)    27860\n",
       "Name: Electric Vehicle Type, dtype: int64"
      ]
     },
     "execution_count": 11,
     "metadata": {},
     "output_type": "execute_result"
    }
   ],
   "source": [
    "# number of battery vs hybrid vehicles\n",
    "df[\"Electric Vehicle Type\"].value_counts()"
   ]
  },
  {
   "cell_type": "code",
   "execution_count": 12,
   "id": "ad60abf6",
   "metadata": {},
   "outputs": [],
   "source": [
    "# dictionary for electric vehicle types\n",
    "ev_type = {\n",
    "    \"Battery\": 94118,\n",
    "    \"Plug-in hybrid\": 27860\n",
    "}"
   ]
  },
  {
   "cell_type": "code",
   "execution_count": 13,
   "id": "eb739f58",
   "metadata": {},
   "outputs": [
    {
     "data": {
      "image/png": "[encoded data removed]",
      "text/plain": [
       "<Figure size 640x480 with 1 Axes>"
      ]
     },
     "metadata": {},
     "output_type": "display_data"
    }
   ],
   "source": [
    "# pie chart for distribution of electric vehicle types\n",
    "plt.pie(ev_type.values(), labels = ev_type.keys(), colors=sns.color_palette('colorblind'))\n",
    "plt.title(\"Electric Vehicle Type\")\n",
    "plt.savefig(\"Electric_vehicle_type.png\")\n",
    "plt.show()"
   ]
  },
  {
   "cell_type": "markdown",
   "id": "f7b5f260",
   "metadata": {},
   "source": [
    "We see that plug-in hybrids are not as common as their battery electric vehicle cousins, and are perhaps even less desirable in the current market. The proportion of plug-in hybrids still registered could possibly be representative of older vehicles or are less popular current models. "
   ]
  },
  {
   "cell_type": "code",
   "execution_count": 14,
   "id": "3dce1727",
   "metadata": {},
   "outputs": [],
   "source": [
    "# create new column top5_brand for stacked bar charts\n",
    "df.loc[df[\"Make\"].str.contains(\n",
    "    \"TESLA|NISSAN|CHEVROLET|FORD|BMW\"),'top5_brand'] = df[\"Make\"]\n",
    "df[\"top5_brand\"].fillna(\"OTHER\", inplace = True)"
   ]
  },
  {
   "cell_type": "markdown",
   "id": "e18a8653",
   "metadata": {},
   "source": [
    "#### Stacked Bar Chart of Top 5 Car Brands by Model Year"
   ]
  },
  {
   "cell_type": "code",
   "execution_count": 15,
   "id": "cbb00618",
   "metadata": {},
   "outputs": [
    {
     "data": {
      "image/png": "[encoded data removed]",
      "text/plain": [
       "<Figure size 640x480 with 1 Axes>"
      ]
     },
     "metadata": {},
     "output_type": "display_data"
    }
   ],
   "source": [
    "# using pandas plot to create stacked bar chart\n",
    "bar_plt = df.groupby(['Model Year', 'top5_brand']).size().unstack().plot(kind='bar', \n",
    "                                                               stacked=True, title = \"Top 5 Car Brands by Model Year\")\n",
    "bar_fig = bar_plt.get_figure()\n",
    "bar_fig.savefig(\"Top_5_Car_Brands_Year.png\")"
   ]
  },
  {
   "cell_type": "markdown",
   "id": "8ba9e868",
   "metadata": {},
   "source": [
    "We see a very small number of electric vehicles still registered in 2023 that were manufactured before 2011. The majority of electric vehicles are those from 2017 or later, with approximately a third being very new (2021 or later). This seems to suggest an increasing demand for electric vehicles. "
   ]
  },
  {
   "cell_type": "markdown",
   "id": "e4001d94",
   "metadata": {},
   "source": [
    "#### Stacked Bar Chart of Top 5 Brands by Legislative District"
   ]
  },
  {
   "cell_type": "code",
   "execution_count": 16,
   "id": "c704ef1a",
   "metadata": {},
   "outputs": [
    {
     "data": {
      "image/png": "[encoded data removed]",
      "text/plain": [
       "<Figure size 640x480 with 1 Axes>"
      ]
     },
     "metadata": {},
     "output_type": "display_data"
    }
   ],
   "source": [
    "bar_plt2 = df.groupby(['Legislative District', 'top5_brand']).size().unstack().plot(kind='bar', \n",
    "                                                               stacked=True, \n",
    "                                                               title = \"Top 5 Car Brands by Legislative Districts\")\n",
    "bar_fig2 = bar_plt2.get_figure()\n",
    "bar_fig2.savefig(\"Top_5_Car_Brands_LegDistrict.png\")"
   ]
  },
  {
   "cell_type": "markdown",
   "id": "a883d3c2",
   "metadata": {},
   "source": [
    "In many of the legislative districts, we see a very similar distribution of the car brands, with some exceptions such as in the 3rd, 4th, 7th, 12th, 16th, 19th, 20th, 24th, 29th, 35th, and 42nd districts that appear to have a much lower proportion of Tesla vehicles than the average; in contrast, the 1st, 5th, 41st, 45th, and 48th districts have a much higher proportion of Tesla vehicles than the average. We typically see fewer Tesla vehicles and more \"Other\" vehicles in districts that have fewer total electric vehicles and more Tesla vehicles in districts with more total electric vehicles. "
   ]
  },
  {
   "cell_type": "markdown",
   "id": "baab48f0",
   "metadata": {},
   "source": [
    "### Overview of Milestone 1 Graphs"
   ]
  },
  {
   "cell_type": "markdown",
   "id": "95c4eeb0",
   "metadata": {},
   "source": [
    "We see some potentially interesting trends in geographic distribution of brands, with could have sociopolitical weight- for example, could the distribution of brands be related to socioeconomic standing and can that be correlated to geogragraphical boundaries, such as legislative districts. There do not seem to be any extreme outliers as to the distribution of the top 5 brands, either geographically or by model year. There are areas that have significantly smaller and larger populations of total electric vehicles. The imbalanced class categories will present a challenge in model accuracy, but by focusing on the top 5 brands and putting all others into an \"Other\" category, the imbalances are slightly less severe and can be accomodated better through careful model selection. Because the distributions of the brands remain fairly even across geopolitical boundaries, that feature might not have a lot of predictive power, which complicates the model building process- however, hopefully other features will prove to have enough predictive power to contribute to a working model. "
   ]
  },
  {
   "cell_type": "markdown",
   "id": "6aeeec39",
   "metadata": {},
   "source": [
    "## Milestone 2\n",
    "### Week 8"
   ]
  },
  {
   "cell_type": "code",
   "execution_count": 17,
   "id": "7773b9d9",
   "metadata": {},
   "outputs": [],
   "source": [
    "# import libraries\n",
    "from scipy import stats\n",
    "from sklearn.model_selection import train_test_split\n",
    "from sklearn.feature_selection import chi2, f_classif, SelectPercentile"
   ]
  },
  {
   "cell_type": "markdown",
   "id": "a6162ba2",
   "metadata": {},
   "source": [
    "### Deal with Missing Data"
   ]
  },
  {
   "cell_type": "markdown",
   "id": "707de6df",
   "metadata": {},
   "source": [
    "#### Data types for each columns"
   ]
  },
  {
   "cell_type": "code",
   "execution_count": 18,
   "id": "3e0b574e",
   "metadata": {},
   "outputs": [
    {
     "data": {
      "text/plain": [
       "VIN (1-10)                                            object\n",
       "County                                                object\n",
       "City                                                  object\n",
       "State                                                 object\n",
       "Postal Code                                          float64\n",
       "Model Year                                             int64\n",
       "Make                                                  object\n",
       "Model                                                 object\n",
       "Electric Vehicle Type                                 object\n",
       "Clean Alternative Fuel Vehicle (CAFV) Eligibility     object\n",
       "Electric Range                                         int64\n",
       "Base MSRP                                              int64\n",
       "Legislative District                                 float64\n",
       "DOL Vehicle ID                                         int64\n",
       "Vehicle Location                                      object\n",
       "Electric Utility                                      object\n",
       "2020 Census Tract                                    float64\n",
       "top5_brand                                            object\n",
       "dtype: object"
      ]
     },
     "execution_count": 18,
     "metadata": {},
     "output_type": "execute_result"
    }
   ],
   "source": [
    "# data types\n",
    "df.dtypes"
   ]
  },
  {
   "cell_type": "markdown",
   "id": "3530bbb2",
   "metadata": {},
   "source": [
    "All data types for the columns make sense for the data that they hold. I did originally question whether the VIN (1-10) should be numerical instead, but the VIN column contains a mixed sequence of numbers and letters. "
   ]
  },
  {
   "cell_type": "markdown",
   "id": "ed7d1e8c",
   "metadata": {},
   "source": [
    "#### Outlier Detection"
   ]
  },
  {
   "cell_type": "code",
   "execution_count": 19,
   "id": "1abbe5f1",
   "metadata": {},
   "outputs": [
    {
     "data": {
      "image/png": "[encoded data removed]",
      "text/plain": [
       "<Figure size 1000x700 with 1 Axes>"
      ]
     },
     "metadata": {},
     "output_type": "display_data"
    },
    {
     "name": "stdout",
     "output_type": "stream",
     "text": [
      "(array([], dtype=int64),)\n"
     ]
    },
    {
     "data": {
      "image/png": "[encoded data removed]",
      "text/plain": [
       "<Figure size 1000x700 with 1 Axes>"
      ]
     },
     "metadata": {},
     "output_type": "display_data"
    },
    {
     "name": "stdout",
     "output_type": "stream",
     "text": [
      "(array([   266,   3741,   4211,   4631,   6310,   8641,  11112,  12005,\n",
      "        15199,  15973,  19143,  19556,  20523,  21109,  21598,  24292,\n",
      "        26068,  29357,  31398,  31531,  32337,  32969,  33380,  35499,\n",
      "        35617,  36197,  40853,  41089,  43201,  46129,  47285,  50493,\n",
      "        55446,  55897,  60234,  62803,  64633,  64897,  65674,  72064,\n",
      "        73239,  76463,  80382,  82197,  85476,  86101,  86956,  88054,\n",
      "        90113,  91681,  96519, 100493, 101263, 102496, 102508, 103389,\n",
      "       107525, 110839, 112442, 116923, 117415, 118525, 118972, 120938,\n",
      "       121541]),)\n"
     ]
    },
    {
     "data": {
      "image/png": "[encoded data removed]",
      "text/plain": [
       "<Figure size 1000x700 with 1 Axes>"
      ]
     },
     "metadata": {},
     "output_type": "display_data"
    },
    {
     "name": "stdout",
     "output_type": "stream",
     "text": [
      "(array([], dtype=int64),)\n"
     ]
    },
    {
     "data": {
      "image/png": "[encoded data removed]",
      "text/plain": [
       "<Figure size 1000x700 with 1 Axes>"
      ]
     },
     "metadata": {},
     "output_type": "display_data"
    },
    {
     "name": "stdout",
     "output_type": "stream",
     "text": [
      "(array([    37,     90,    113, ..., 121937, 121944, 121955]),)\n"
     ]
    },
    {
     "data": {
      "image/png": "[encoded data removed]",
      "text/plain": [
       "<Figure size 1000x700 with 1 Axes>"
      ]
     },
     "metadata": {},
     "output_type": "display_data"
    },
    {
     "name": "stdout",
     "output_type": "stream",
     "text": [
      "(array([], dtype=int64),)\n"
     ]
    },
    {
     "data": {
      "image/png": "[encoded data removed]",
      "text/plain": [
       "<Figure size 1000x700 with 1 Axes>"
      ]
     },
     "metadata": {},
     "output_type": "display_data"
    },
    {
     "name": "stdout",
     "output_type": "stream",
     "text": [
      "(array([     0,      9,     14, ..., 121929, 121939, 121942]),)\n"
     ]
    },
    {
     "data": {
      "image/png": "[encoded data removed]",
      "text/plain": [
       "<Figure size 1000x700 with 1 Axes>"
      ]
     },
     "metadata": {},
     "output_type": "display_data"
    },
    {
     "name": "stdout",
     "output_type": "stream",
     "text": [
      "(array([], dtype=int64),)\n"
     ]
    }
   ],
   "source": [
    "# create boxplots for numerical columns\n",
    "for n in df.columns:\n",
    "    if df[n].dtype != 'O':\n",
    "        fig = plt.figure(figsize =(10, 7))\n",
    "        # Creating plot\n",
    "        plt.boxplot(df[n])\n",
    "        plt.title(\"Boxplot for {}\".format(n))\n",
    "        # show plot\n",
    "        plt.show()\n",
    "        # return index of outliers\n",
    "        z = np.abs(stats.zscore(df[n]))\n",
    "        print(np.where(z > 3))\n",
    "    else:\n",
    "        pass"
   ]
  },
  {
   "cell_type": "markdown",
   "id": "010495f0",
   "metadata": {},
   "source": [
    "Some columns appear to have a lot of outliers (DOL Vehicle ID and Base MSRP)."
   ]
  },
  {
   "cell_type": "markdown",
   "id": "481dd116",
   "metadata": {},
   "source": [
    "#### Number of missing values for each column"
   ]
  },
  {
   "cell_type": "code",
   "execution_count": 20,
   "id": "fe346483",
   "metadata": {},
   "outputs": [
    {
     "data": {
      "text/plain": [
       "VIN (1-10)                                             0\n",
       "County                                                 2\n",
       "City                                                   2\n",
       "State                                                  0\n",
       "Postal Code                                            2\n",
       "Model Year                                             0\n",
       "Make                                                   0\n",
       "Model                                                104\n",
       "Electric Vehicle Type                                  0\n",
       "Clean Alternative Fuel Vehicle (CAFV) Eligibility      0\n",
       "Electric Range                                         0\n",
       "Base MSRP                                              0\n",
       "Legislative District                                 297\n",
       "DOL Vehicle ID                                         0\n",
       "Vehicle Location                                      32\n",
       "Electric Utility                                     469\n",
       "2020 Census Tract                                      2\n",
       "top5_brand                                             0\n",
       "dtype: int64"
      ]
     },
     "execution_count": 20,
     "metadata": {},
     "output_type": "execute_result"
    }
   ],
   "source": [
    "# number of NaNs in each column\n",
    "df.isnull().sum()"
   ]
  },
  {
   "cell_type": "code",
   "execution_count": 21,
   "id": "fd882cf4",
   "metadata": {},
   "outputs": [
    {
     "name": "stdout",
     "output_type": "stream",
     "text": [
      "0      47417\n",
      "215     6361\n",
      "220     4158\n",
      "84      4037\n",
      "238     3466\n",
      "       ...  \n",
      "95         3\n",
      "11         3\n",
      "39         1\n",
      "59         1\n",
      "57         1\n",
      "Name: Electric Range, Length: 101, dtype: int64\n",
      "0         118511\n",
      "69900       1454\n",
      "31950        406\n",
      "52900        214\n",
      "32250        156\n",
      "54950        137\n",
      "59900        128\n",
      "39995        119\n",
      "44100         98\n",
      "36900         97\n",
      "64950         87\n",
      "33950         81\n",
      "45600         76\n",
      "52650         65\n",
      "34995         62\n",
      "36800         50\n",
      "55700         47\n",
      "53400         32\n",
      "98950         22\n",
      "110950        22\n",
      "81100         19\n",
      "90700         18\n",
      "102000        17\n",
      "75095         16\n",
      "184400        12\n",
      "43700         11\n",
      "109000         7\n",
      "89100          6\n",
      "91250          4\n",
      "32995          3\n",
      "845000         1\n",
      "Name: Base MSRP, dtype: int64\n"
     ]
    }
   ],
   "source": [
    "# value counts for Base MSRP and Electric Range\n",
    "print(df[\"Electric Range\"].value_counts())\n",
    "print(df[\"Base MSRP\"].value_counts())"
   ]
  },
  {
   "cell_type": "code",
   "execution_count": 22,
   "id": "1135e2c0",
   "metadata": {},
   "outputs": [],
   "source": [
    "# replace 0s with Nans in Electric Range and Base MSRP\n",
    "df[\"Electric Range\"] = df[\"Electric Range\"].replace(to_replace = 0, value = np.nan)\n",
    "df[\"Base MSRP\"] = df[\"Base MSRP\"].replace(to_replace = 0, value = np.nan)"
   ]
  },
  {
   "cell_type": "markdown",
   "id": "e95dea19",
   "metadata": {},
   "source": [
    "The electric range of an electric vehicle should not be 0 and the base MSRP of a car cannot be 0, and so it is assumed that the 0's in the data set are placeholders for missing values."
   ]
  },
  {
   "cell_type": "code",
   "execution_count": 23,
   "id": "a25f7f4d",
   "metadata": {},
   "outputs": [
    {
     "data": {
      "text/plain": [
       "VIN (1-10)                                                0\n",
       "County                                                    2\n",
       "City                                                      2\n",
       "State                                                     0\n",
       "Postal Code                                               2\n",
       "Model Year                                                0\n",
       "Make                                                      0\n",
       "Model                                                   104\n",
       "Electric Vehicle Type                                     0\n",
       "Clean Alternative Fuel Vehicle (CAFV) Eligibility         0\n",
       "Electric Range                                        47417\n",
       "Base MSRP                                            118511\n",
       "Legislative District                                    297\n",
       "DOL Vehicle ID                                            0\n",
       "Vehicle Location                                         32\n",
       "Electric Utility                                        469\n",
       "2020 Census Tract                                         2\n",
       "top5_brand                                                0\n",
       "dtype: int64"
      ]
     },
     "execution_count": 23,
     "metadata": {},
     "output_type": "execute_result"
    }
   ],
   "source": [
    "# number of NaNs in each column\n",
    "df.isnull().sum()"
   ]
  },
  {
   "cell_type": "markdown",
   "id": "177172cf",
   "metadata": {},
   "source": [
    "#### Drop columns with more than 50% missing data"
   ]
  },
  {
   "cell_type": "code",
   "execution_count": 24,
   "id": "3764944d",
   "metadata": {},
   "outputs": [],
   "source": [
    "df1 = df.dropna(axis = 1, thresh = (.5 * df.shape[0] +1))"
   ]
  },
  {
   "cell_type": "markdown",
   "id": "f12f6539",
   "metadata": {},
   "source": [
    "This only removes the Base MSRP column which was missing about 97% of the data. "
   ]
  },
  {
   "cell_type": "markdown",
   "id": "4af2d94d",
   "metadata": {},
   "source": [
    "#### Handle Other Missing Values"
   ]
  },
  {
   "cell_type": "code",
   "execution_count": 25,
   "id": "4aba7005",
   "metadata": {},
   "outputs": [
    {
     "data": {
      "text/plain": [
       "VIN (1-10)                                               0\n",
       "County                                                   2\n",
       "City                                                     2\n",
       "State                                                    0\n",
       "Postal Code                                              2\n",
       "Model Year                                               0\n",
       "Make                                                     0\n",
       "Model                                                  104\n",
       "Electric Vehicle Type                                    0\n",
       "Clean Alternative Fuel Vehicle (CAFV) Eligibility        0\n",
       "Electric Range                                       47417\n",
       "Legislative District                                   297\n",
       "DOL Vehicle ID                                           0\n",
       "Vehicle Location                                        32\n",
       "Electric Utility                                       469\n",
       "2020 Census Tract                                        2\n",
       "top5_brand                                               0\n",
       "dtype: int64"
      ]
     },
     "execution_count": 25,
     "metadata": {},
     "output_type": "execute_result"
    }
   ],
   "source": [
    "# number of NaNs in each column\n",
    "df1.isnull().sum()"
   ]
  },
  {
   "cell_type": "markdown",
   "id": "328f6269",
   "metadata": {},
   "source": [
    "#### Former code that imputed missing data\n",
    "I will fill in missing data that is categorical (such as County or City) with the mode of that column. Legislative District, Postal Code, and 2020 Census Tract (while numerical values) will be filled with the modes as well due to the nature of the data. Location data is, in its own way categorical data because you can either be in one location or be in another but you cannot be partially in one and partially in another location; therefore, mean and median do not capture as accurate of a representation of the data as the mode does for these columns. Electric range will be replaced with the median of the column to decrease the chance of the column being overly affected by outliers. \n",
    "\n",
    "#list of columns to replace missing values with mode\n",
    "\n",
    "missing_mode = [\"County\", \"City\", \"Postal Code\", \"Model\", \"Legislative District\", \"Vehicle Location\", \n",
    "                \"Electric Utility\", \"2020 Census Tract\"]\n",
    "\n",
    "#empty dictionary\n",
    "\n",
    "missing_dic = {}\n",
    "\n",
    "#loop that calculates mode for each column and adds that to the dictionary\n",
    "\n",
    "for n in missing_mode:\n",
    "    \n",
    "    num = df1[n].mode()[0]\n",
    "    \n",
    "    missing_dic.update({n: num})\n",
    "\n",
    "missing_dic\n",
    "\n",
    "#replace nans with values in dictionary\n",
    "\n",
    "df1 = df1.fillna(value = missing_dic)\n",
    "\n",
    "#calculating median for electric range\n",
    "\n",
    "med = df1[\"Electric Range\"].median()\n",
    "\n",
    "#replacing nans with median in electric range\n",
    "\n",
    "df1[\"Electric Range\"] = df1[\"Electric Range\"].fillna(med)\n"
   ]
  },
  {
   "cell_type": "code",
   "execution_count": 26,
   "id": "fc73d902",
   "metadata": {},
   "outputs": [],
   "source": [
    "# drop rows that are missing data\n",
    "df1 = df1.dropna()"
   ]
  },
  {
   "cell_type": "code",
   "execution_count": 27,
   "id": "c04e599b",
   "metadata": {},
   "outputs": [
    {
     "data": {
      "text/plain": [
       "VIN (1-10)                                           0\n",
       "County                                               0\n",
       "City                                                 0\n",
       "State                                                0\n",
       "Postal Code                                          0\n",
       "Model Year                                           0\n",
       "Make                                                 0\n",
       "Model                                                0\n",
       "Electric Vehicle Type                                0\n",
       "Clean Alternative Fuel Vehicle (CAFV) Eligibility    0\n",
       "Electric Range                                       0\n",
       "Legislative District                                 0\n",
       "DOL Vehicle ID                                       0\n",
       "Vehicle Location                                     0\n",
       "Electric Utility                                     0\n",
       "2020 Census Tract                                    0\n",
       "top5_brand                                           0\n",
       "dtype: int64"
      ]
     },
     "execution_count": 27,
     "metadata": {},
     "output_type": "execute_result"
    }
   ],
   "source": [
    "# number of NaNs in each column\n",
    "df1.isnull().sum()"
   ]
  },
  {
   "cell_type": "markdown",
   "id": "6ed0623b",
   "metadata": {},
   "source": [
    "### Drop any features that are not useful for your model building"
   ]
  },
  {
   "cell_type": "markdown",
   "id": "706b1222",
   "metadata": {},
   "source": [
    "I will be dropping VIN (1-10) and DOL Vehicle ID as both of these features serve as forms of vehicle identification. Also the DOL Vehicle ID is assigned when registering a vehicle with the DMV which would occur after the vehicle is purchased which would not be available to someone trying to predict the make of a vehicle. Model, Model Year, Clean Alternative Fuel Vehicle (CAFV) Eligibility, and Electric Range are also being dropped because if we do not know a vehicle's make (as that is the target in this model) we cannot possibly know this information about the vehicle as well. "
   ]
  },
  {
   "cell_type": "code",
   "execution_count": 28,
   "id": "86416f60",
   "metadata": {},
   "outputs": [
    {
     "data": {
      "text/html": [
       "<div>\n",
       "<style scoped>\n",
       "    .dataframe tbody tr th:only-of-type {\n",
       "        vertical-align: middle;\n",
       "    }\n",
       "\n",
       "    .dataframe tbody tr th {\n",
       "        vertical-align: top;\n",
       "    }\n",
       "\n",
       "    .dataframe thead th {\n",
       "        text-align: right;\n",
       "    }\n",
       "</style>\n",
       "<table border=\"1\" class=\"dataframe\">\n",
       "  <thead>\n",
       "    <tr style=\"text-align: right;\">\n",
       "      <th></th>\n",
       "      <th>County</th>\n",
       "      <th>City</th>\n",
       "      <th>State</th>\n",
       "      <th>Postal Code</th>\n",
       "      <th>Make</th>\n",
       "      <th>Electric Vehicle Type</th>\n",
       "      <th>Legislative District</th>\n",
       "      <th>Vehicle Location</th>\n",
       "      <th>Electric Utility</th>\n",
       "      <th>2020 Census Tract</th>\n",
       "      <th>top5_brand</th>\n",
       "    </tr>\n",
       "  </thead>\n",
       "  <tbody>\n",
       "    <tr>\n",
       "      <th>1</th>\n",
       "      <td>Yakima</td>\n",
       "      <td>Yakima</td>\n",
       "      <td>WA</td>\n",
       "      <td>98908.0</td>\n",
       "      <td>TESLA</td>\n",
       "      <td>Battery Electric Vehicle (BEV)</td>\n",
       "      <td>14.0</td>\n",
       "      <td>POINT (-120.56916 46.58514)</td>\n",
       "      <td>PACIFICORP</td>\n",
       "      <td>5.307700e+10</td>\n",
       "      <td>TESLA</td>\n",
       "    </tr>\n",
       "    <tr>\n",
       "      <th>2</th>\n",
       "      <td>Yakima</td>\n",
       "      <td>Yakima</td>\n",
       "      <td>WA</td>\n",
       "      <td>98908.0</td>\n",
       "      <td>AUDI</td>\n",
       "      <td>Battery Electric Vehicle (BEV)</td>\n",
       "      <td>14.0</td>\n",
       "      <td>POINT (-120.56916 46.58514)</td>\n",
       "      <td>PACIFICORP</td>\n",
       "      <td>5.307700e+10</td>\n",
       "      <td>OTHER</td>\n",
       "    </tr>\n",
       "    <tr>\n",
       "      <th>5</th>\n",
       "      <td>Thurston</td>\n",
       "      <td>Olympia</td>\n",
       "      <td>WA</td>\n",
       "      <td>98502.0</td>\n",
       "      <td>NISSAN</td>\n",
       "      <td>Battery Electric Vehicle (BEV)</td>\n",
       "      <td>22.0</td>\n",
       "      <td>POINT (-122.92333 47.03779)</td>\n",
       "      <td>PUGET SOUND ENERGY INC</td>\n",
       "      <td>5.306701e+10</td>\n",
       "      <td>NISSAN</td>\n",
       "    </tr>\n",
       "    <tr>\n",
       "      <th>6</th>\n",
       "      <td>Thurston</td>\n",
       "      <td>Tenino</td>\n",
       "      <td>WA</td>\n",
       "      <td>98589.0</td>\n",
       "      <td>CHEVROLET</td>\n",
       "      <td>Plug-in Hybrid Electric Vehicle (PHEV)</td>\n",
       "      <td>20.0</td>\n",
       "      <td>POINT (-122.85135 46.85752)</td>\n",
       "      <td>PUGET SOUND ENERGY INC</td>\n",
       "      <td>5.306701e+10</td>\n",
       "      <td>CHEVROLET</td>\n",
       "    </tr>\n",
       "    <tr>\n",
       "      <th>7</th>\n",
       "      <td>Snohomish</td>\n",
       "      <td>Bothell</td>\n",
       "      <td>WA</td>\n",
       "      <td>98021.0</td>\n",
       "      <td>TESLA</td>\n",
       "      <td>Battery Electric Vehicle (BEV)</td>\n",
       "      <td>1.0</td>\n",
       "      <td>POINT (-122.18384 47.8031)</td>\n",
       "      <td>PUGET SOUND ENERGY INC</td>\n",
       "      <td>5.306105e+10</td>\n",
       "      <td>TESLA</td>\n",
       "    </tr>\n",
       "  </tbody>\n",
       "</table>\n",
       "</div>"
      ],
      "text/plain": [
       "      County     City State  Postal Code       Make  \\\n",
       "1     Yakima   Yakima    WA      98908.0      TESLA   \n",
       "2     Yakima   Yakima    WA      98908.0       AUDI   \n",
       "5   Thurston  Olympia    WA      98502.0     NISSAN   \n",
       "6   Thurston   Tenino    WA      98589.0  CHEVROLET   \n",
       "7  Snohomish  Bothell    WA      98021.0      TESLA   \n",
       "\n",
       "                    Electric Vehicle Type  Legislative District  \\\n",
       "1          Battery Electric Vehicle (BEV)                  14.0   \n",
       "2          Battery Electric Vehicle (BEV)                  14.0   \n",
       "5          Battery Electric Vehicle (BEV)                  22.0   \n",
       "6  Plug-in Hybrid Electric Vehicle (PHEV)                  20.0   \n",
       "7          Battery Electric Vehicle (BEV)                   1.0   \n",
       "\n",
       "              Vehicle Location        Electric Utility  2020 Census Tract  \\\n",
       "1  POINT (-120.56916 46.58514)              PACIFICORP       5.307700e+10   \n",
       "2  POINT (-120.56916 46.58514)              PACIFICORP       5.307700e+10   \n",
       "5  POINT (-122.92333 47.03779)  PUGET SOUND ENERGY INC       5.306701e+10   \n",
       "6  POINT (-122.85135 46.85752)  PUGET SOUND ENERGY INC       5.306701e+10   \n",
       "7   POINT (-122.18384 47.8031)  PUGET SOUND ENERGY INC       5.306105e+10   \n",
       "\n",
       "  top5_brand  \n",
       "1      TESLA  \n",
       "2      OTHER  \n",
       "5     NISSAN  \n",
       "6  CHEVROLET  \n",
       "7      TESLA  "
      ]
     },
     "execution_count": 28,
     "metadata": {},
     "output_type": "execute_result"
    }
   ],
   "source": [
    "df2 = df1.drop(columns = [\"VIN (1-10)\", \"Model\", \"DOL Vehicle ID\", \"Model Year\",\n",
    "                          \"Clean Alternative Fuel Vehicle (CAFV) Eligibility\", \"Electric Range\"])\n",
    "df2.head()"
   ]
  },
  {
   "cell_type": "markdown",
   "id": "e5ea312e",
   "metadata": {},
   "source": [
    "### Create Dummy Variables "
   ]
  },
  {
   "cell_type": "markdown",
   "id": "e7609d1c",
   "metadata": {},
   "source": [
    "Created dummy variables for all features. Did not encode Make as that is our target. Also did not encode top5_brand; this is a simplified version of the target variable and it is left in the data set as an alternate to the original target variable if the model proves too complex: if the target variable is simplified such that it contains a smaller number of categories while still containing the majority of the instances, the model accuracy may be able to be increased if the other model proves too complex and accuracy is very low. "
   ]
  },
  {
   "cell_type": "code",
   "execution_count": 29,
   "id": "3749420f",
   "metadata": {},
   "outputs": [],
   "source": [
    "# move columns Make and top5_brand to index positions 0 and 1 in dataframe\n",
    "df2.insert(0, 'Make', df2.pop('Make'))\n",
    "df2.insert(1, \"top5_brand\", df2.pop(\"top5_brand\"))"
   ]
  },
  {
   "cell_type": "code",
   "execution_count": 30,
   "id": "8349a5b5",
   "metadata": {},
   "outputs": [
    {
     "data": {
      "text/html": [
       "<div>\n",
       "<style scoped>\n",
       "    .dataframe tbody tr th:only-of-type {\n",
       "        vertical-align: middle;\n",
       "    }\n",
       "\n",
       "    .dataframe tbody tr th {\n",
       "        vertical-align: top;\n",
       "    }\n",
       "\n",
       "    .dataframe thead th {\n",
       "        text-align: right;\n",
       "    }\n",
       "</style>\n",
       "<table border=\"1\" class=\"dataframe\">\n",
       "  <thead>\n",
       "    <tr style=\"text-align: right;\">\n",
       "      <th></th>\n",
       "      <th>Make</th>\n",
       "      <th>top5_brand</th>\n",
       "      <th>County_Adams</th>\n",
       "      <th>County_Asotin</th>\n",
       "      <th>County_Benton</th>\n",
       "      <th>County_Chelan</th>\n",
       "      <th>County_Clallam</th>\n",
       "      <th>County_Clark</th>\n",
       "      <th>County_Columbia</th>\n",
       "      <th>County_Cowlitz</th>\n",
       "      <th>...</th>\n",
       "      <th>2020 Census Tract_53077003002.0</th>\n",
       "      <th>2020 Census Tract_53077003003.0</th>\n",
       "      <th>2020 Census Tract_53077003004.0</th>\n",
       "      <th>2020 Census Tract_53077003100.0</th>\n",
       "      <th>2020 Census Tract_53077003200.0</th>\n",
       "      <th>2020 Census Tract_53077003400.0</th>\n",
       "      <th>2020 Census Tract_53077940001.0</th>\n",
       "      <th>2020 Census Tract_53077940002.0</th>\n",
       "      <th>2020 Census Tract_53077940003.0</th>\n",
       "      <th>2020 Census Tract_53077940006.0</th>\n",
       "    </tr>\n",
       "  </thead>\n",
       "  <tbody>\n",
       "    <tr>\n",
       "      <th>1</th>\n",
       "      <td>TESLA</td>\n",
       "      <td>TESLA</td>\n",
       "      <td>0</td>\n",
       "      <td>0</td>\n",
       "      <td>0</td>\n",
       "      <td>0</td>\n",
       "      <td>0</td>\n",
       "      <td>0</td>\n",
       "      <td>0</td>\n",
       "      <td>0</td>\n",
       "      <td>...</td>\n",
       "      <td>0</td>\n",
       "      <td>0</td>\n",
       "      <td>0</td>\n",
       "      <td>0</td>\n",
       "      <td>0</td>\n",
       "      <td>0</td>\n",
       "      <td>0</td>\n",
       "      <td>0</td>\n",
       "      <td>0</td>\n",
       "      <td>0</td>\n",
       "    </tr>\n",
       "    <tr>\n",
       "      <th>2</th>\n",
       "      <td>AUDI</td>\n",
       "      <td>OTHER</td>\n",
       "      <td>0</td>\n",
       "      <td>0</td>\n",
       "      <td>0</td>\n",
       "      <td>0</td>\n",
       "      <td>0</td>\n",
       "      <td>0</td>\n",
       "      <td>0</td>\n",
       "      <td>0</td>\n",
       "      <td>...</td>\n",
       "      <td>0</td>\n",
       "      <td>0</td>\n",
       "      <td>0</td>\n",
       "      <td>0</td>\n",
       "      <td>0</td>\n",
       "      <td>0</td>\n",
       "      <td>0</td>\n",
       "      <td>0</td>\n",
       "      <td>0</td>\n",
       "      <td>0</td>\n",
       "    </tr>\n",
       "    <tr>\n",
       "      <th>5</th>\n",
       "      <td>NISSAN</td>\n",
       "      <td>NISSAN</td>\n",
       "      <td>0</td>\n",
       "      <td>0</td>\n",
       "      <td>0</td>\n",
       "      <td>0</td>\n",
       "      <td>0</td>\n",
       "      <td>0</td>\n",
       "      <td>0</td>\n",
       "      <td>0</td>\n",
       "      <td>...</td>\n",
       "      <td>0</td>\n",
       "      <td>0</td>\n",
       "      <td>0</td>\n",
       "      <td>0</td>\n",
       "      <td>0</td>\n",
       "      <td>0</td>\n",
       "      <td>0</td>\n",
       "      <td>0</td>\n",
       "      <td>0</td>\n",
       "      <td>0</td>\n",
       "    </tr>\n",
       "    <tr>\n",
       "      <th>6</th>\n",
       "      <td>CHEVROLET</td>\n",
       "      <td>CHEVROLET</td>\n",
       "      <td>0</td>\n",
       "      <td>0</td>\n",
       "      <td>0</td>\n",
       "      <td>0</td>\n",
       "      <td>0</td>\n",
       "      <td>0</td>\n",
       "      <td>0</td>\n",
       "      <td>0</td>\n",
       "      <td>...</td>\n",
       "      <td>0</td>\n",
       "      <td>0</td>\n",
       "      <td>0</td>\n",
       "      <td>0</td>\n",
       "      <td>0</td>\n",
       "      <td>0</td>\n",
       "      <td>0</td>\n",
       "      <td>0</td>\n",
       "      <td>0</td>\n",
       "      <td>0</td>\n",
       "    </tr>\n",
       "    <tr>\n",
       "      <th>7</th>\n",
       "      <td>TESLA</td>\n",
       "      <td>TESLA</td>\n",
       "      <td>0</td>\n",
       "      <td>0</td>\n",
       "      <td>0</td>\n",
       "      <td>0</td>\n",
       "      <td>0</td>\n",
       "      <td>0</td>\n",
       "      <td>0</td>\n",
       "      <td>0</td>\n",
       "      <td>...</td>\n",
       "      <td>0</td>\n",
       "      <td>0</td>\n",
       "      <td>0</td>\n",
       "      <td>0</td>\n",
       "      <td>0</td>\n",
       "      <td>0</td>\n",
       "      <td>0</td>\n",
       "      <td>0</td>\n",
       "      <td>0</td>\n",
       "      <td>0</td>\n",
       "    </tr>\n",
       "  </tbody>\n",
       "</table>\n",
       "<p>5 rows × 3345 columns</p>\n",
       "</div>"
      ],
      "text/plain": [
       "        Make top5_brand  County_Adams  County_Asotin  County_Benton  \\\n",
       "1      TESLA      TESLA             0              0              0   \n",
       "2       AUDI      OTHER             0              0              0   \n",
       "5     NISSAN     NISSAN             0              0              0   \n",
       "6  CHEVROLET  CHEVROLET             0              0              0   \n",
       "7      TESLA      TESLA             0              0              0   \n",
       "\n",
       "   County_Chelan  County_Clallam  County_Clark  County_Columbia  \\\n",
       "1              0               0             0                0   \n",
       "2              0               0             0                0   \n",
       "5              0               0             0                0   \n",
       "6              0               0             0                0   \n",
       "7              0               0             0                0   \n",
       "\n",
       "   County_Cowlitz  ...  2020 Census Tract_53077003002.0  \\\n",
       "1               0  ...                                0   \n",
       "2               0  ...                                0   \n",
       "5               0  ...                                0   \n",
       "6               0  ...                                0   \n",
       "7               0  ...                                0   \n",
       "\n",
       "   2020 Census Tract_53077003003.0  2020 Census Tract_53077003004.0  \\\n",
       "1                                0                                0   \n",
       "2                                0                                0   \n",
       "5                                0                                0   \n",
       "6                                0                                0   \n",
       "7                                0                                0   \n",
       "\n",
       "   2020 Census Tract_53077003100.0  2020 Census Tract_53077003200.0  \\\n",
       "1                                0                                0   \n",
       "2                                0                                0   \n",
       "5                                0                                0   \n",
       "6                                0                                0   \n",
       "7                                0                                0   \n",
       "\n",
       "   2020 Census Tract_53077003400.0  2020 Census Tract_53077940001.0  \\\n",
       "1                                0                                0   \n",
       "2                                0                                0   \n",
       "5                                0                                0   \n",
       "6                                0                                0   \n",
       "7                                0                                0   \n",
       "\n",
       "   2020 Census Tract_53077940002.0  2020 Census Tract_53077940003.0  \\\n",
       "1                                0                                0   \n",
       "2                                0                                0   \n",
       "5                                0                                0   \n",
       "6                                0                                0   \n",
       "7                                0                                0   \n",
       "\n",
       "   2020 Census Tract_53077940006.0  \n",
       "1                                0  \n",
       "2                                0  \n",
       "5                                0  \n",
       "6                                0  \n",
       "7                                0  \n",
       "\n",
       "[5 rows x 3345 columns]"
      ]
     },
     "execution_count": 30,
     "metadata": {},
     "output_type": "execute_result"
    }
   ],
   "source": [
    "# get dummy variables for all columns except Make and top5_brand\n",
    "car_dum = pd.get_dummies(data=df2, columns=df2.columns[2:])\n",
    "car_dum.head()"
   ]
  },
  {
   "cell_type": "markdown",
   "id": "abc597de",
   "metadata": {},
   "source": [
    "### Data Extraction/Selection"
   ]
  },
  {
   "cell_type": "markdown",
   "id": "3c83a561",
   "metadata": {},
   "source": [
    "3343 features is a lot of features, and computation will take an exorbitant amount of time and there is a risk of overfitting the model to the training data; therefore, feature selection is applied such that the top 20% of features are selected and the rest are discarded. "
   ]
  },
  {
   "cell_type": "markdown",
   "id": "a88a3e8d",
   "metadata": {},
   "source": [
    "#### Create random subset of data to train model\n",
    "\n",
    "#mix = car_dum.sample(n = 5000, random_state = 42)"
   ]
  },
  {
   "cell_type": "markdown",
   "id": "846ecc84",
   "metadata": {},
   "source": [
    "#### Split data into test/train set"
   ]
  },
  {
   "cell_type": "code",
   "execution_count": 31,
   "id": "ab812f86",
   "metadata": {},
   "outputs": [],
   "source": [
    "# using 80% training and 20% testing\n",
    "x = car_dum.iloc[:, 2:]\n",
    "y = car_dum[\"Make\"]\n",
    "x_train, x_test, y_train, y_test = train_test_split(x, y, \n",
    "                                                    random_state = 42, \n",
    "                                                    train_size = 0.80)"
   ]
  },
  {
   "cell_type": "code",
   "execution_count": 32,
   "id": "93738652",
   "metadata": {},
   "outputs": [],
   "source": [
    "# test train split for alternate target variable- conducted now before modeling so there is no chance for data leakage\n",
    "x1 = car_dum.iloc[:, 2:]\n",
    "y1 = car_dum[\"top5_brand\"]\n",
    "x1_train, x1_test, y1_train, y1_test = train_test_split(x1, y1, \n",
    "                                                    random_state = 42, \n",
    "                                                    train_size = 0.80)"
   ]
  },
  {
   "cell_type": "markdown",
   "id": "12550861",
   "metadata": {},
   "source": [
    "#### Former code used for PCA\n",
    "\n",
    "#90% of variance\n",
    "\n",
    "#create scaler instance\n",
    "\n",
    "scaler = StandardScaler()\n",
    "\n",
    "#standardize feature matrix\n",
    "\n",
    "x_train_pca = scaler.fit_transform(x_train)\n",
    "\n",
    "#create PCA that contains 90% of variance\n",
    "\n",
    "pca = PCA(n_components = 0.9, whiten = True)\n",
    "\n",
    "#conduct PCA\n",
    "\n",
    "x_train_pca = pca.fit_transform(x_train_pca)\n",
    "\n",
    "\n",
    "\n",
    "#pca for alt target \n",
    "\n",
    "#create scaler instance\n",
    "\n",
    "scaler = StandardScaler()\n",
    "\n",
    "#standardize feature matrix\n",
    "\n",
    "x1_train_pca = scaler.fit_transform(x1_train)\n",
    "\n",
    "#create PCA that contains 90% of variance\n",
    "\n",
    "pca = PCA(n_components = 0.9, whiten = True)\n",
    "\n",
    "#conduct PCA\n",
    "\n",
    "x1_train_pca = pca.fit_transform(x1_train_pca)"
   ]
  },
  {
   "cell_type": "markdown",
   "id": "d1d42e74",
   "metadata": {},
   "source": [
    "#### Chi Squared for Feature Selection to reduce number of features from 3343"
   ]
  },
  {
   "cell_type": "code",
   "execution_count": 33,
   "id": "b47f3bfe",
   "metadata": {},
   "outputs": [],
   "source": [
    "# select top 20% of features with highest chi-squared values\n",
    "selector = SelectPercentile(chi2, percentile = 20)\n",
    "# fit and transform training data\n",
    "x_train_chi = selector.fit_transform(x_train, y_train)"
   ]
  },
  {
   "cell_type": "code",
   "execution_count": 34,
   "id": "5d33fa3c",
   "metadata": {},
   "outputs": [
    {
     "name": "stdout",
     "output_type": "stream",
     "text": [
      "Original number of features:  3343\n",
      "Number of features in PCA-transformed matrix:  669\n"
     ]
    }
   ],
   "source": [
    "# dimensionality reduction\n",
    "print(\"Original number of features: \", x_train.shape[1])\n",
    "print(\"Number of features in PCA-transformed matrix: \", x_train_chi.shape[1])"
   ]
  },
  {
   "cell_type": "code",
   "execution_count": 35,
   "id": "6b3a747f",
   "metadata": {},
   "outputs": [],
   "source": [
    "# chi_square transform for test\n",
    "x_test_chi = selector.transform(x_test)"
   ]
  },
  {
   "cell_type": "code",
   "execution_count": 36,
   "id": "d95df3a6",
   "metadata": {},
   "outputs": [],
   "source": [
    "# select top 20% of features with highest chi-squared values for alt target\n",
    "selector = SelectPercentile(chi2, percentile = 20)\n",
    "# fit and transform training data\n",
    "x1_train_chi = selector.fit_transform(x1_train, y1_train)"
   ]
  },
  {
   "cell_type": "code",
   "execution_count": 37,
   "id": "47db31ef",
   "metadata": {},
   "outputs": [
    {
     "name": "stdout",
     "output_type": "stream",
     "text": [
      "Original number of features:  3343\n",
      "Number of features in PCA-transformed matrix:  669\n"
     ]
    }
   ],
   "source": [
    "# dimensionality reduction\n",
    "print(\"Original number of features: \", x1_train.shape[1])\n",
    "print(\"Number of features in PCA-transformed matrix: \", x1_train_chi.shape[1])"
   ]
  },
  {
   "cell_type": "code",
   "execution_count": 38,
   "id": "7a7754a3",
   "metadata": {},
   "outputs": [],
   "source": [
    "# chi_square transform for test\n",
    "x1_test_chi = selector.transform(x1_test)"
   ]
  },
  {
   "cell_type": "markdown",
   "id": "ebc95563",
   "metadata": {},
   "source": [
    "After feature selection, we are left with 669 features. This is a large reduction from the original 3343 features which will greatly reduce computational time for the model and reduce any chance of overfitting of the model, while retaining the interpretability of the model. "
   ]
  },
  {
   "cell_type": "markdown",
   "id": "3e3e20f7",
   "metadata": {},
   "source": [
    "## Milestone 3\n",
    "### Week 10"
   ]
  },
  {
   "cell_type": "markdown",
   "id": "3222523a",
   "metadata": {},
   "source": [
    "This milestone starts with some edits to Milestone 2; namely, additional features (Model Year, Clean Alternative Fuel Vehicle (CAFV) Eligibility, and Electric Range) have been dropped due to the nature of the problem, as we should not have access to that information if we do not know what the vehicle is. Also, PCA is no longer performed on the data, and instead Chi-squared feature selection is used that selects the top 20% of features with the highest chi-squared values. Also, the size of the data set that is being used for hyperparameter tuning has been reduced to 5,000 entries (approximately 4% of the data set) as the original data set could not be trained in a timely model especially when RandomizedSearchCV is being used before GridSearchCV to provide some imsight to further tune the hyperparameters. The hyperparameters chosen at the end of this milestone will be later used to train a model with the full dataset, since these hyperparameters should be pretty idealized."
   ]
  },
  {
   "cell_type": "code",
   "execution_count": 39,
   "id": "bb559753",
   "metadata": {},
   "outputs": [],
   "source": [
    "# import libraries\n",
    "from sklearn.dummy import DummyClassifier\n",
    "from sklearn.model_selection import RandomizedSearchCV, GridSearchCV\n",
    "from sklearn.ensemble import RandomForestClassifier\n",
    "from sklearn.metrics import classification_report\n",
    "from sklearn.base import BaseEstimator\n",
    "from sklearn.pipeline import Pipeline, FeatureUnion"
   ]
  },
  {
   "cell_type": "markdown",
   "id": "b318be70",
   "metadata": {},
   "source": [
    "### \"Make\" Target Model"
   ]
  },
  {
   "cell_type": "markdown",
   "id": "87dd8760",
   "metadata": {},
   "source": [
    "#### Create Baseline model for comparison\n",
    "Using DummyClassifier to create baseline model that simulates randomly guessing the make of the vehicle. The \"stratified\" strategy tells us that it is guessing based off the proportion of each make in the target data"
   ]
  },
  {
   "cell_type": "code",
   "execution_count": 40,
   "id": "016d7f94",
   "metadata": {},
   "outputs": [
    {
     "data": {
      "text/plain": [
       "0.1718539477229857"
      ]
     },
     "execution_count": 40,
     "metadata": {},
     "output_type": "execute_result"
    }
   ],
   "source": [
    "# create baseline model using dummy classifier\n",
    "dummy = DummyClassifier(strategy = \"stratified\")\n",
    "# train dummy model\n",
    "dummy.fit(x_train_chi, y_train)\n",
    "# get accuracy score\n",
    "dummy.score(x_test_chi, y_test)"
   ]
  },
  {
   "cell_type": "markdown",
   "id": "537b2d9b",
   "metadata": {},
   "source": [
    "#### Use RandomizedSearchCV to tune hyperparameters\n",
    "Using randomized search, we start to parse through hyperparameters to create a (hopefully) better model than the baseline. "
   ]
  },
  {
   "cell_type": "code",
   "execution_count": 41,
   "id": "3fd14331",
   "metadata": {},
   "outputs": [],
   "source": [
    "# create dummy estimator\n",
    "class DummyEstimator(BaseEstimator):\n",
    "    def fit(self): pass\n",
    "    def score(self): pass\n",
    "        \n",
    "# Create a pipeline\n",
    "pipe = Pipeline([('clf', DummyEstimator())])"
   ]
  },
  {
   "cell_type": "code",
   "execution_count": 42,
   "id": "e46b597e",
   "metadata": {},
   "outputs": [],
   "source": [
    "# search space for random forest classifier hyperparameter tuning\n",
    "search = [{\"clf\": [RandomForestClassifier()],\n",
    "           \"clf__n_estimators\": [10, 100, 1000], \n",
    "           \"clf__max_features\": [\"sqrt\", \"log2\"],\n",
    "           \"clf__bootstrap\": [True, False], \n",
    "           \"clf__max_depth\" : [int(x) for x in np.linspace(10, 120, num = 12)], \n",
    "           \"clf__min_samples_split\" : [2, 6, 10],\n",
    "           \"clf__min_samples_leaf\" : [1, 3, 4]}]"
   ]
  },
  {
   "cell_type": "code",
   "execution_count": 43,
   "id": "c8c8e989",
   "metadata": {},
   "outputs": [],
   "source": [
    "# perform grid search with 3-fold cross-validation\n",
    "randsearch = RandomizedSearchCV(pipe, search, cv = 3, n_iter = 10, random_state = 42, n_jobs = -1)"
   ]
  },
  {
   "cell_type": "code",
   "execution_count": 44,
   "id": "beca4561",
   "metadata": {},
   "outputs": [],
   "source": [
    "# fit random search\n",
    "rand_model = randsearch.fit(x_train_chi, y_train)"
   ]
  },
  {
   "cell_type": "code",
   "execution_count": 45,
   "id": "80465717",
   "metadata": {},
   "outputs": [
    {
     "data": {
      "text/plain": [
       "{'clf__n_estimators': 100,\n",
       " 'clf__min_samples_split': 6,\n",
       " 'clf__min_samples_leaf': 3,\n",
       " 'clf__max_features': 'sqrt',\n",
       " 'clf__max_depth': 30,\n",
       " 'clf__bootstrap': True,\n",
       " 'clf': RandomForestClassifier(max_depth=30, max_features='sqrt', min_samples_leaf=3,\n",
       "                        min_samples_split=6)}"
      ]
     },
     "execution_count": 45,
     "metadata": {},
     "output_type": "execute_result"
    }
   ],
   "source": [
    "# best model from randomized search and hyperparameters\n",
    "rand_model.best_params_"
   ]
  },
  {
   "cell_type": "code",
   "execution_count": 46,
   "id": "7797ec80",
   "metadata": {},
   "outputs": [
    {
     "data": {
      "text/plain": [
       "0.4456345998383185"
      ]
     },
     "execution_count": 46,
     "metadata": {},
     "output_type": "execute_result"
    }
   ],
   "source": [
    "# score the randomized search model on the testing data\n",
    "rand_model.score(x_test_chi, y_test)"
   ]
  },
  {
   "cell_type": "markdown",
   "id": "de9e4a99",
   "metadata": {},
   "source": [
    "The accuracy increased from 17.1% from the baseline dummy classifier to 44.6% with the randomized search, which is a great improvement although a far cry from ideal."
   ]
  },
  {
   "cell_type": "markdown",
   "id": "4dc86e6b",
   "metadata": {},
   "source": [
    "#### Hyperparameter tuning using GridSearchCV\n",
    "Based off the hyperparameters found in the randomized search, further hyperparameter tuning is performed that should result in even more precise tuning, and an even better model."
   ]
  },
  {
   "cell_type": "code",
   "execution_count": 47,
   "id": "efc1d7f8",
   "metadata": {},
   "outputs": [],
   "source": [
    "# search space for random forest classifier hyperparameter tuning based off randomized search\n",
    "search2 = [{\"clf\": [RandomForestClassifier()], \n",
    "            \"clf__n_estimators\": [50, 100, 250, 500], \n",
    "            \"clf__max_features\": [\"sqrt\"],\n",
    "            \"clf__bootstrap\": [True], \n",
    "            \"clf__max_depth\" : [20, 30, 40], \n",
    "            \"clf__min_samples_split\" : [6],\n",
    "            \"clf__min_samples_leaf\" : [3]}]"
   ]
  },
  {
   "cell_type": "code",
   "execution_count": 48,
   "id": "9304dd5e",
   "metadata": {},
   "outputs": [],
   "source": [
    "# perform grid search with 3-fold cross-validation\n",
    "gridsearch = GridSearchCV(pipe, search2, cv = 3, n_jobs = -1)\n",
    "# fit random search\n",
    "best_model = gridsearch.fit(x_train_chi, y_train)"
   ]
  },
  {
   "cell_type": "code",
   "execution_count": 49,
   "id": "ad499119",
   "metadata": {},
   "outputs": [
    {
     "data": {
      "text/plain": [
       "{'clf': RandomForestClassifier(max_depth=30, max_features='sqrt', min_samples_leaf=3,\n",
       "                        min_samples_split=6, n_estimators=500),\n",
       " 'clf__bootstrap': True,\n",
       " 'clf__max_depth': 30,\n",
       " 'clf__max_features': 'sqrt',\n",
       " 'clf__min_samples_leaf': 3,\n",
       " 'clf__min_samples_split': 6,\n",
       " 'clf__n_estimators': 500}"
      ]
     },
     "execution_count": 49,
     "metadata": {},
     "output_type": "execute_result"
    }
   ],
   "source": [
    "# best model and hyperparameters\n",
    "best_model.best_params_"
   ]
  },
  {
   "cell_type": "code",
   "execution_count": 50,
   "id": "c873d07f",
   "metadata": {},
   "outputs": [
    {
     "data": {
      "text/plain": [
       "0.4457693344112099"
      ]
     },
     "execution_count": 50,
     "metadata": {},
     "output_type": "execute_result"
    }
   ],
   "source": [
    "# score the randomized search model on the testing data\n",
    "best_model.score(x_test_chi, y_test)"
   ]
  },
  {
   "cell_type": "markdown",
   "id": "5b9d35db",
   "metadata": {},
   "source": [
    "The grid search found the same hyperparameters as the randomized search, so the best model for the unedited target has the following hyperparameters:\n",
    "'n_estimators': 100,\n",
    " 'min_samples_split': 6,\n",
    " 'min_samples_leaf': 3,\n",
    " 'max_features': 'sqrt',\n",
    " 'max_depth': 30,\n",
    " 'bootstrap': True\n",
    "\n",
    "The accuracy is approximately 44.6%, which is not a high level of accuracy; therefore, models for the alternative target will also be created."
   ]
  },
  {
   "cell_type": "markdown",
   "id": "94fe8700",
   "metadata": {},
   "source": [
    "### Alternative Target (\"top5_brand\") Model"
   ]
  },
  {
   "cell_type": "markdown",
   "id": "f1892d51",
   "metadata": {},
   "source": [
    "#### Baseline Model for comparison"
   ]
  },
  {
   "cell_type": "code",
   "execution_count": 51,
   "id": "d871491c",
   "metadata": {},
   "outputs": [
    {
     "data": {
      "text/plain": [
       "0.24548639180813797"
      ]
     },
     "execution_count": 51,
     "metadata": {},
     "output_type": "execute_result"
    }
   ],
   "source": [
    "# create baseline model using dummy classifier\n",
    "dummy1 = DummyClassifier(strategy = \"stratified\")\n",
    "# train dummy model\n",
    "dummy1.fit(x1_train_chi, y1_train)\n",
    "# get accuracy score\n",
    "dummy1.score(x1_test_chi, y1_test)"
   ]
  },
  {
   "cell_type": "markdown",
   "id": "4ad92f00",
   "metadata": {},
   "source": [
    "#### RandomizedSeachCV hyperparameter tuning"
   ]
  },
  {
   "cell_type": "code",
   "execution_count": 52,
   "id": "b699252a",
   "metadata": {},
   "outputs": [],
   "source": [
    "# perform grid search with 3-fold cross-validation\n",
    "randsearch1 = RandomizedSearchCV(pipe, search, cv = 3, n_iter = 10, random_state = 42, n_jobs = -1)\n",
    "# fit random search\n",
    "rand_model1 = randsearch1.fit(x1_train_chi, y1_train)"
   ]
  },
  {
   "cell_type": "code",
   "execution_count": 53,
   "id": "04aa0abf",
   "metadata": {},
   "outputs": [
    {
     "data": {
      "text/plain": [
       "{'clf__n_estimators': 1000,\n",
       " 'clf__min_samples_split': 6,\n",
       " 'clf__min_samples_leaf': 4,\n",
       " 'clf__max_features': 'log2',\n",
       " 'clf__max_depth': 40,\n",
       " 'clf__bootstrap': False,\n",
       " 'clf': RandomForestClassifier(bootstrap=False, max_depth=40, max_features='log2',\n",
       "                        min_samples_leaf=4, min_samples_split=6,\n",
       "                        n_estimators=1000)}"
      ]
     },
     "execution_count": 53,
     "metadata": {},
     "output_type": "execute_result"
    }
   ],
   "source": [
    "# best model from randomized search and hyperparameters\n",
    "rand_model1.best_params_"
   ]
  },
  {
   "cell_type": "code",
   "execution_count": 54,
   "id": "d608fce9",
   "metadata": {},
   "outputs": [
    {
     "data": {
      "text/plain": [
       "0.5646725949878739"
      ]
     },
     "execution_count": 54,
     "metadata": {},
     "output_type": "execute_result"
    }
   ],
   "source": [
    "# score the randomized search model on the testing data\n",
    "rand_model1.score(x1_test_chi, y1_test)"
   ]
  },
  {
   "cell_type": "markdown",
   "id": "8c60725f",
   "metadata": {},
   "source": [
    "This is a great increase in accuracy from 24.5% accuracy for the baseline dummy classifier model to 56.5% accuracy using the idealized parameters from the randomized search. "
   ]
  },
  {
   "cell_type": "markdown",
   "id": "744d005b",
   "metadata": {},
   "source": [
    "#### GridSearchCV hyperparameter tuning"
   ]
  },
  {
   "cell_type": "code",
   "execution_count": 55,
   "id": "ecec26ab",
   "metadata": {},
   "outputs": [],
   "source": [
    "search3 = [{\"clf\": [RandomForestClassifier()], \n",
    "            \"clf__n_estimators\": [500, 750, 1000, 1250], \n",
    "            \"clf__max_features\": [\"log2\"],\n",
    "            \"clf__bootstrap\": [False], \n",
    "            \"clf__max_depth\" : [40], \n",
    "            \"clf__min_samples_split\" : [6],\n",
    "            \"clf__min_samples_leaf\" : [4]}]"
   ]
  },
  {
   "cell_type": "code",
   "execution_count": 56,
   "id": "f88874c5",
   "metadata": {},
   "outputs": [],
   "source": [
    "# perform grid search with 3-fold cross-validation\n",
    "gridsearch = GridSearchCV(pipe, search3, cv = 3, n_jobs = -1)\n",
    "# fit random search\n",
    "best_model1 = gridsearch.fit(x1_train_chi, y1_train)"
   ]
  },
  {
   "cell_type": "code",
   "execution_count": 57,
   "id": "62852077",
   "metadata": {},
   "outputs": [
    {
     "data": {
      "text/plain": [
       "{'clf': RandomForestClassifier(bootstrap=False, max_depth=40, max_features='log2',\n",
       "                        min_samples_leaf=4, min_samples_split=6,\n",
       "                        n_estimators=1250),\n",
       " 'clf__bootstrap': False,\n",
       " 'clf__max_depth': 40,\n",
       " 'clf__max_features': 'log2',\n",
       " 'clf__min_samples_leaf': 4,\n",
       " 'clf__min_samples_split': 6,\n",
       " 'clf__n_estimators': 1250}"
      ]
     },
     "execution_count": 57,
     "metadata": {},
     "output_type": "execute_result"
    }
   ],
   "source": [
    "# best model and hyperparameters\n",
    "best_model1.best_params_"
   ]
  },
  {
   "cell_type": "code",
   "execution_count": 58,
   "id": "36199b50",
   "metadata": {},
   "outputs": [
    {
     "data": {
      "text/plain": [
       "0.5642683912691997"
      ]
     },
     "execution_count": 58,
     "metadata": {},
     "output_type": "execute_result"
    }
   ],
   "source": [
    "# score the randomized search model on the testing data\n",
    "best_model1.score(x1_test_chi, y1_test)"
   ]
  },
  {
   "cell_type": "markdown",
   "id": "6cb5062e",
   "metadata": {},
   "source": [
    "The hyperparameters found in the grid search resulted in an accuracy of 56.5%, which is the same accuracy found in the randomized search. The 56.5% is still not a great accuracy, but is far better than the 44.5% accuracy found with the other target. "
   ]
  },
  {
   "cell_type": "markdown",
   "id": "b07d696d",
   "metadata": {},
   "source": [
    "### Conclusion of Milestone 3"
   ]
  },
  {
   "cell_type": "markdown",
   "id": "181dd33b",
   "metadata": {},
   "source": [
    "The models trained with the alternative target, the simplified target that included the top 5 car makes and all others listed as \"Other\", experienced a greater accuracy than the other models. This is possibly due to the classes being slightly more balanced than the imbalances seen in the original \"Make\" target variable, and the fact that the model only had to predict 6 categories. \n",
    "\n",
    "When training the entire dataset, it ran overnight without producing a viable model. Logistic regression was originally included in a grid search with the random forest classifier, and every version of the logistic regression failed to converge, implying that a logistic regression model is not the best model for this data. \n",
    "\n",
    "Because the maximum efficiency achieved was only 56.5%, the model is perhaps not yet idealized and more hyperparameter tuning could be attempted, including trying other models, such as a support vector machine (even though it is not usually ideal for large datasets, which is why it was not utilized originally). Further work with this data would be to integrate the entire dataset into a model, and to further attempt to tune hyperparameters to increase the accuracy of the model. "
   ]
  },
  {
   "cell_type": "markdown",
   "id": "7bff3e78",
   "metadata": {},
   "source": [
    "## Milestone 4\n",
    "### Week 12"
   ]
  },
  {
   "cell_type": "markdown",
   "id": "c737ef40",
   "metadata": {},
   "source": [
    "This week began with some edits of previous milestones. In Milestone 2, missing data was imputed by column, but now any rows with missing data was dropped wihich decreases the dataset from 121978 rows to 74218. Also in Milestone 2, I worked with only a small subset of the rows that were randomly selected, and moving forward, the entire dataset was used. "
   ]
  },
  {
   "cell_type": "markdown",
   "id": "1d99cf3b",
   "metadata": {},
   "source": [
    "This week starts with attempts to increase the accuracy of the models. I was worried that I had not considered enough options and so I fitted decision tree and Bernoulli Naive Bayeslogistic regression classifier models on the alternate target to see if any of them were more accurate (random forest classifier outperformed them both even though the decision tree model was nearly comparable). Next I tried to see if adding more features (increasing from the top 20% best features by chi-squared to the top 45% increases the accuracy without overfitting or increasing the processing time exponentially. "
   ]
  },
  {
   "cell_type": "code",
   "execution_count": 59,
   "id": "b08656b5",
   "metadata": {},
   "outputs": [],
   "source": [
    "# import libraries\n",
    "from sklearn.tree import DecisionTreeClassifier\n",
    "import random\n",
    "from sklearn.naive_bayes import BernoulliNB\n",
    "from sklearn.metrics import confusion_matrix"
   ]
  },
  {
   "cell_type": "markdown",
   "id": "859f730f",
   "metadata": {},
   "source": [
    "#### Run Decision Tree and Bernoulli Naive Bayes Classifiers on alternate target to see if accuracy can be increased"
   ]
  },
  {
   "cell_type": "code",
   "execution_count": 60,
   "id": "d4b2d31c",
   "metadata": {},
   "outputs": [],
   "source": [
    "# create dummy estimator\n",
    "class DummyEstimator(BaseEstimator):\n",
    "    def fit(self): pass\n",
    "    def score(self): pass\n",
    "        \n",
    "# Create a pipeline\n",
    "pipe = Pipeline([('clf', DummyEstimator())]) # Placeholder Estimator\n",
    "    \n",
    "# create search space for decision tree classifier\n",
    "search_dt = [{'clf': [DecisionTreeClassifier()],\n",
    "                 'clf__max_depth': [2, 3, None],\n",
    "                 'clf__criterion': ['gini', 'entropy']}]\n",
    "# random search for decision tree\n",
    "rs_dt = RandomizedSearchCV(pipe, search_dt, cv = 3, n_iter = 5, random_state = 42, n_jobs = -1)"
   ]
  },
  {
   "cell_type": "code",
   "execution_count": 61,
   "id": "854d7826",
   "metadata": {},
   "outputs": [],
   "source": [
    "# fit random search decision tree model\n",
    "rs_dt_model = rs_dt.fit(x1_train_chi, y1_train)"
   ]
  },
  {
   "cell_type": "code",
   "execution_count": 62,
   "id": "b3d9fe72",
   "metadata": {},
   "outputs": [
    {
     "data": {
      "text/plain": [
       "{'clf__max_depth': 3,\n",
       " 'clf__criterion': 'gini',\n",
       " 'clf': DecisionTreeClassifier(max_depth=3)}"
      ]
     },
     "execution_count": 62,
     "metadata": {},
     "output_type": "execute_result"
    }
   ],
   "source": [
    "# best decision tree model from randomized search and hyperparameters\n",
    "rs_dt_model.best_params_"
   ]
  },
  {
   "cell_type": "code",
   "execution_count": 63,
   "id": "49a90be4",
   "metadata": {},
   "outputs": [
    {
     "data": {
      "text/plain": [
       "0.5582053354890865"
      ]
     },
     "execution_count": 63,
     "metadata": {},
     "output_type": "execute_result"
    }
   ],
   "source": [
    "# score the decision tree model\n",
    "rs_dt_model.score(x1_test_chi, y1_test)"
   ]
  },
  {
   "cell_type": "code",
   "execution_count": 64,
   "id": "509eea5c",
   "metadata": {},
   "outputs": [],
   "source": [
    "# create Bernoulli Naive Bayes object\n",
    "classifier = BernoulliNB()\n",
    "# train model\n",
    "nb_model = classifier.fit(x1_train_chi, y1_train)"
   ]
  },
  {
   "cell_type": "code",
   "execution_count": 65,
   "id": "0b495c41",
   "metadata": {},
   "outputs": [
    {
     "data": {
      "text/plain": [
       "0.470156292104554"
      ]
     },
     "execution_count": 65,
     "metadata": {},
     "output_type": "execute_result"
    }
   ],
   "source": [
    "# accuracy score for naive bayes\n",
    "nb_model.score(x1_test_chi, y1_test)"
   ]
  },
  {
   "cell_type": "markdown",
   "id": "849c5f05",
   "metadata": {},
   "source": [
    "#### Reselect features using top 45% of features with highest chi-squared values and run random forest classifier"
   ]
  },
  {
   "cell_type": "code",
   "execution_count": 66,
   "id": "c2dfb20a",
   "metadata": {},
   "outputs": [],
   "source": [
    "# select top 45% of features with highest chi-squared values\n",
    "selector45 = SelectPercentile(chi2, percentile = 45)\n",
    "# fit and transform training data\n",
    "x1_train_chi45 = selector45.fit_transform(x1_train, y1_train)"
   ]
  },
  {
   "cell_type": "code",
   "execution_count": 67,
   "id": "5a519256",
   "metadata": {},
   "outputs": [],
   "source": [
    "# chi_square transform for test\n",
    "x1_test_chi45 = selector45.transform(x1_test)"
   ]
  },
  {
   "cell_type": "code",
   "execution_count": 68,
   "id": "e0480a84",
   "metadata": {},
   "outputs": [
    {
     "name": "stdout",
     "output_type": "stream",
     "text": [
      "Original number of features:  3343\n",
      "Number of features in PCA-transformed matrix:  1504\n"
     ]
    }
   ],
   "source": [
    "# dimensionality reduction\n",
    "print(\"Original number of features: \", x1_train.shape[1])\n",
    "print(\"Number of features in PCA-transformed matrix: \", x1_train_chi45.shape[1])"
   ]
  },
  {
   "cell_type": "code",
   "execution_count": 69,
   "id": "2fedfdc5",
   "metadata": {},
   "outputs": [],
   "source": [
    "# perform grid search with 3-fold cross-validation\n",
    "randsearch45 = RandomizedSearchCV(pipe, search, cv = 3, n_iter = 10, random_state = 42, n_jobs = -1)\n",
    "# fit random search\n",
    "rand_model45 = randsearch45.fit(x1_train_chi45, y1_train)"
   ]
  },
  {
   "cell_type": "code",
   "execution_count": 70,
   "id": "25aa1beb",
   "metadata": {},
   "outputs": [
    {
     "data": {
      "text/plain": [
       "{'clf__n_estimators': 1000,\n",
       " 'clf__min_samples_split': 6,\n",
       " 'clf__min_samples_leaf': 4,\n",
       " 'clf__max_features': 'log2',\n",
       " 'clf__max_depth': 110,\n",
       " 'clf__bootstrap': False,\n",
       " 'clf': RandomForestClassifier(bootstrap=False, max_depth=110, max_features='log2',\n",
       "                        min_samples_leaf=4, min_samples_split=6,\n",
       "                        n_estimators=1000)}"
      ]
     },
     "execution_count": 70,
     "metadata": {},
     "output_type": "execute_result"
    }
   ],
   "source": [
    "# best model from randomized search and hyperparameters\n",
    "rand_model45.best_params_"
   ]
  },
  {
   "cell_type": "code",
   "execution_count": 71,
   "id": "af7dbff7",
   "metadata": {},
   "outputs": [
    {
     "data": {
      "text/plain": [
       "0.5654810024252223"
      ]
     },
     "execution_count": 71,
     "metadata": {},
     "output_type": "execute_result"
    }
   ],
   "source": [
    "# score the randomized search model on the testing data\n",
    "rand_model45.score(x1_test_chi45, y1_test)"
   ]
  },
  {
   "cell_type": "markdown",
   "id": "9ca73b4b",
   "metadata": {},
   "source": [
    "The increase in features in the training set yielded only a 0.09% increase in accuracy, while increasing the processing to over an hour for the randomized search. "
   ]
  },
  {
   "cell_type": "markdown",
   "id": "753930b1",
   "metadata": {},
   "source": [
    "#### Confusion matrix for model using top 45% of features"
   ]
  },
  {
   "cell_type": "code",
   "execution_count": 72,
   "id": "0113067b",
   "metadata": {},
   "outputs": [],
   "source": [
    "# predicted value for 45% top features\n",
    "y_pred45 = rand_model45.predict(x1_test_chi45)"
   ]
  },
  {
   "cell_type": "code",
   "execution_count": 73,
   "id": "09491220",
   "metadata": {},
   "outputs": [
    {
     "data": {
      "image/png": "[encoded data removed]",
      "text/plain": [
       "<Figure size 2500x2500 with 2 Axes>"
      ]
     },
     "metadata": {},
     "output_type": "display_data"
    }
   ],
   "source": [
    "# confusion matrix\n",
    "cm = confusion_matrix(y1_test, y_pred45)\n",
    "# plot confusion matrix using seaborn\n",
    "fig, ax = plt.subplots(figsize = (25,25))\n",
    "sns.heatmap(cm, cmap='Blues', ax = ax)\n",
    "plt.savefig(\"cf_matrix_45.png\")"
   ]
  },
  {
   "cell_type": "markdown",
   "id": "a4e1c5da",
   "metadata": {},
   "source": [
    "#### Confusion matrix for best model using top 20% features"
   ]
  },
  {
   "cell_type": "code",
   "execution_count": 74,
   "id": "b9412f6c",
   "metadata": {},
   "outputs": [],
   "source": [
    "# predicted values for 20% top features\n",
    "y_pred = best_model1.predict(x1_test_chi)"
   ]
  },
  {
   "cell_type": "code",
   "execution_count": 75,
   "id": "67e458e1",
   "metadata": {
    "scrolled": true
   },
   "outputs": [
    {
     "data": {
      "image/png": "[encoded data removed]",
      "text/plain": [
       "<Figure size 2500x2500 with 2 Axes>"
      ]
     },
     "metadata": {},
     "output_type": "display_data"
    }
   ],
   "source": [
    "# confusion matrix\n",
    "cm = confusion_matrix(y1_test, y_pred)\n",
    "# plot confusion matrix using seaborn\n",
    "fig, ax = plt.subplots(figsize = (25,25))\n",
    "sns.heatmap(cm, cmap='Blues', ax = ax)\n",
    "plt.savefig(\"cf_matrix_20.png\")"
   ]
  },
  {
   "cell_type": "code",
   "execution_count": 76,
   "id": "8e903255",
   "metadata": {},
   "outputs": [
    {
     "name": "stdout",
     "output_type": "stream",
     "text": [
      "              precision    recall  f1-score   support\n",
      "\n",
      "         BMW       0.44      0.01      0.02       949\n",
      "   CHEVROLET       0.66      0.02      0.05      1699\n",
      "        FORD       0.87      0.05      0.10       769\n",
      "      NISSAN       0.43      0.08      0.13      2131\n",
      "       OTHER       0.55      0.74      0.63      4096\n",
      "       TESLA       0.58      0.98      0.73      5200\n",
      "\n",
      "    accuracy                           0.56     14844\n",
      "   macro avg       0.59      0.31      0.28     14844\n",
      "weighted avg       0.56      0.56      0.46     14844\n",
      "\n"
     ]
    }
   ],
   "source": [
    "# classification report for random forest model trained with the top 20% of features and the alternate target\n",
    "print(classification_report(y1_test, y_pred))"
   ]
  }
 ],
 "metadata": {
  "kernelspec": {
   "display_name": "Python 3 (ipykernel)",
   "language": "python",
   "name": "python3"
  },
  "language_info": {
   "codemirror_mode": {
    "name": "ipython",
    "version": 3
   },
   "file_extension": ".py",
   "mimetype": "text/x-python",
   "name": "python",
   "nbconvert_exporter": "python",
   "pygments_lexer": "ipython3",
   "version": "3.9.12"
  }
 },
 "nbformat": 4,
 "nbformat_minor": 5
}
